{
 "cells": [
  {
   "cell_type": "code",
   "execution_count": 430,
   "id": "e8d6ed71",
   "metadata": {},
   "outputs": [],
   "source": [
    "import pandas as pd\n",
    "import numpy as np\n",
    "import matplotlib.pyplot as plt\n",
    "import seaborn as sns\n",
    "import matplotlib.pyplot as plt\n",
    "import seaborn as sns"
   ]
  },
  {
   "cell_type": "code",
   "execution_count": 431,
   "id": "9d0330da",
   "metadata": {},
   "outputs": [
    {
     "data": {
      "text/html": [
       "<div>\n",
       "<style scoped>\n",
       "    .dataframe tbody tr th:only-of-type {\n",
       "        vertical-align: middle;\n",
       "    }\n",
       "\n",
       "    .dataframe tbody tr th {\n",
       "        vertical-align: top;\n",
       "    }\n",
       "\n",
       "    .dataframe thead th {\n",
       "        text-align: right;\n",
       "    }\n",
       "</style>\n",
       "<table border=\"1\" class=\"dataframe\">\n",
       "  <thead>\n",
       "    <tr style=\"text-align: right;\">\n",
       "      <th></th>\n",
       "      <th>State</th>\n",
       "      <th>District</th>\n",
       "      <th>Crop</th>\n",
       "      <th>Crop_Year</th>\n",
       "      <th>Season</th>\n",
       "      <th>Area</th>\n",
       "      <th>Production</th>\n",
       "      <th>Yield</th>\n",
       "    </tr>\n",
       "  </thead>\n",
       "  <tbody>\n",
       "    <tr>\n",
       "      <th>0</th>\n",
       "      <td>Jharkhand</td>\n",
       "      <td>RAMGARH</td>\n",
       "      <td>Potato</td>\n",
       "      <td>2013</td>\n",
       "      <td>Winter</td>\n",
       "      <td>1361.0</td>\n",
       "      <td>7544.0</td>\n",
       "      <td>5.54</td>\n",
       "    </tr>\n",
       "    <tr>\n",
       "      <th>1</th>\n",
       "      <td>Jammu and Kashmir</td>\n",
       "      <td>REASI</td>\n",
       "      <td>Moong(Green Gram)</td>\n",
       "      <td>2015</td>\n",
       "      <td>Kharif</td>\n",
       "      <td>13.0</td>\n",
       "      <td>9.0</td>\n",
       "      <td>0.70</td>\n",
       "    </tr>\n",
       "    <tr>\n",
       "      <th>2</th>\n",
       "      <td>Haryana</td>\n",
       "      <td>GURGAON</td>\n",
       "      <td>Sweet potato</td>\n",
       "      <td>2009</td>\n",
       "      <td>Whole Year</td>\n",
       "      <td>39.0</td>\n",
       "      <td>800.0</td>\n",
       "      <td>20.51</td>\n",
       "    </tr>\n",
       "    <tr>\n",
       "      <th>3</th>\n",
       "      <td>Uttar Pradesh</td>\n",
       "      <td>JALAUN</td>\n",
       "      <td>Sannhamp</td>\n",
       "      <td>2010</td>\n",
       "      <td>Kharif</td>\n",
       "      <td>9.0</td>\n",
       "      <td>3.0</td>\n",
       "      <td>0.33</td>\n",
       "    </tr>\n",
       "    <tr>\n",
       "      <th>4</th>\n",
       "      <td>Tamil Nadu</td>\n",
       "      <td>MADURAI</td>\n",
       "      <td>Sugarcane</td>\n",
       "      <td>2006</td>\n",
       "      <td>Whole Year</td>\n",
       "      <td>6006.0</td>\n",
       "      <td>656204.0</td>\n",
       "      <td>109.26</td>\n",
       "    </tr>\n",
       "  </tbody>\n",
       "</table>\n",
       "</div>"
      ],
      "text/plain": [
       "               State District                Crop  Crop_Year       Season  \\\n",
       "0          Jharkhand   RAMGARH             Potato       2013  Winter        \n",
       "1  Jammu and Kashmir     REASI  Moong(Green Gram)       2015  Kharif        \n",
       "2            Haryana   GURGAON       Sweet potato       2009  Whole Year    \n",
       "3      Uttar Pradesh    JALAUN           Sannhamp       2010  Kharif        \n",
       "4         Tamil Nadu   MADURAI          Sugarcane       2006  Whole Year    \n",
       "\n",
       "    Area   Production   Yield  \n",
       "0  1361.0      7544.0    5.54  \n",
       "1    13.0         9.0    0.70  \n",
       "2    39.0       800.0   20.51  \n",
       "3     9.0         3.0    0.33  \n",
       "4  6006.0    656204.0  109.26  "
      ]
     },
     "execution_count": 431,
     "metadata": {},
     "output_type": "execute_result"
    }
   ],
   "source": [
    "df = pd.read_csv(\"crop_yield_train.csv\")\n",
    "df.head()"
   ]
  },
  {
   "cell_type": "code",
   "execution_count": 432,
   "id": "34994504",
   "metadata": {},
   "outputs": [
    {
     "data": {
      "text/plain": [
       "State            0\n",
       "District         0\n",
       "Crop             6\n",
       "Crop_Year        0\n",
       "Season           0\n",
       "Area             0\n",
       "Production    3967\n",
       "Yield            0\n",
       "dtype: int64"
      ]
     },
     "execution_count": 432,
     "metadata": {},
     "output_type": "execute_result"
    }
   ],
   "source": [
    "df.isna().sum()"
   ]
  },
  {
   "cell_type": "code",
   "execution_count": 433,
   "id": "fdb36ffe",
   "metadata": {},
   "outputs": [
    {
     "data": {
      "text/plain": [
       "State         0\n",
       "District      0\n",
       "Crop          0\n",
       "Crop_Year     0\n",
       "Season        0\n",
       "Area          0\n",
       "Production    0\n",
       "Yield         0\n",
       "dtype: int64"
      ]
     },
     "execution_count": 433,
     "metadata": {},
     "output_type": "execute_result"
    }
   ],
   "source": [
    "df.dropna(inplace=True)\n",
    "df.isna().sum()"
   ]
  },
  {
   "cell_type": "code",
   "execution_count": 434,
   "id": "7935add5",
   "metadata": {},
   "outputs": [],
   "source": [
    "df.columns = df.columns.str.strip()\n",
    "df[['State', 'District', 'Crop', 'Season']] = df[['State', 'District', 'Crop', 'Season']].apply(lambda x: x.str.strip().str.title())"
   ]
  },
  {
   "cell_type": "code",
   "execution_count": 435,
   "id": "bcac76f9",
   "metadata": {},
   "outputs": [
    {
     "data": {
      "text/html": [
       "<div>\n",
       "<style scoped>\n",
       "    .dataframe tbody tr th:only-of-type {\n",
       "        vertical-align: middle;\n",
       "    }\n",
       "\n",
       "    .dataframe tbody tr th {\n",
       "        vertical-align: top;\n",
       "    }\n",
       "\n",
       "    .dataframe thead th {\n",
       "        text-align: right;\n",
       "    }\n",
       "</style>\n",
       "<table border=\"1\" class=\"dataframe\">\n",
       "  <thead>\n",
       "    <tr style=\"text-align: right;\">\n",
       "      <th></th>\n",
       "      <th>State</th>\n",
       "      <th>District</th>\n",
       "      <th>Crop</th>\n",
       "      <th>Crop_Year</th>\n",
       "      <th>Season</th>\n",
       "      <th>Area</th>\n",
       "      <th>Production</th>\n",
       "      <th>Yield</th>\n",
       "    </tr>\n",
       "  </thead>\n",
       "  <tbody>\n",
       "  </tbody>\n",
       "</table>\n",
       "</div>"
      ],
      "text/plain": [
       "Empty DataFrame\n",
       "Columns: [State, District, Crop, Crop_Year, Season, Area, Production, Yield]\n",
       "Index: []"
      ]
     },
     "execution_count": 435,
     "metadata": {},
     "output_type": "execute_result"
    }
   ],
   "source": [
    "#handling the duplicates\n",
    "duplicated_rows = df[df.duplicated()]\n",
    "duplicated_rows"
   ]
  },
  {
   "cell_type": "code",
   "execution_count": 436,
   "id": "b3d486f9",
   "metadata": {},
   "outputs": [
    {
     "data": {
      "image/png": "[encoded data removed]",
      "text/plain": [
       "<Figure size 640x480 with 1 Axes>"
      ]
     },
     "metadata": {},
     "output_type": "display_data"
    }
   ],
   "source": [
    "plt.boxplot(df['Area'])\n",
    "plt.show()"
   ]
  },
  {
   "cell_type": "code",
   "execution_count": 437,
   "id": "c55d6467",
   "metadata": {},
   "outputs": [
    {
     "name": "stdout",
     "output_type": "stream",
     "text": [
      "Number of outliers: 45157\n"
     ]
    }
   ],
   "source": [
    "\n",
    "q1 = df['Area'].quantile(0.25)\n",
    "q3 = df['Area'].quantile(0.75)\n",
    "iqr = q3 - q1\n",
    "\n",
    "lower_bound = q1 - 1.5 * iqr\n",
    "upper_bound = q3 + 1.5 * iqr\n",
    "\n",
    "outliers = df[(df['Area'] < lower_bound) | (df['Area'] > upper_bound)]\n",
    "print(\"Number of outliers:\", len(outliers))"
   ]
  },
  {
   "cell_type": "code",
   "execution_count": 438,
   "id": "975643e4",
   "metadata": {},
   "outputs": [],
   "source": [
    "df['Area'] = df['Area'].clip(lower_bound, upper_bound)"
   ]
  },
  {
   "cell_type": "code",
   "execution_count": 439,
   "id": "dbf31d39",
   "metadata": {},
   "outputs": [
    {
     "name": "stdout",
     "output_type": "stream",
     "text": [
      "Number of outliers: 47985\n"
     ]
    }
   ],
   "source": [
    "q1 = df['Production'].quantile(0.25)\n",
    "q3 = df['Production'].quantile(0.75)\n",
    "iqr = q3 - q1\n",
    "\n",
    "lower_bound = q1 - 1.5 * iqr\n",
    "upper_bound = q3 + 1.5 * iqr\n",
    "\n",
    "outliers = df[(df['Production'] < lower_bound) | (df['Production'] > upper_bound)]\n",
    "print(\"Number of outliers:\", len(outliers))"
   ]
  },
  {
   "cell_type": "code",
   "execution_count": 440,
   "id": "e15a74d6",
   "metadata": {},
   "outputs": [],
   "source": [
    "df['Production'] = df['Production'].clip(lower_bound, upper_bound)"
   ]
  },
  {
   "cell_type": "code",
   "execution_count": 441,
   "id": "b2972df4",
   "metadata": {},
   "outputs": [
    {
     "name": "stdout",
     "output_type": "stream",
     "text": [
      "Number of outliers: 41104\n"
     ]
    }
   ],
   "source": [
    "q1 = df['Yield'].quantile(0.25)\n",
    "q3 = df['Yield'].quantile(0.75)\n",
    "iqr = q3 - q1\n",
    "\n",
    "lower_bound = q1 - 1.5 * iqr\n",
    "upper_bound = q3 + 1.5 * iqr\n",
    "\n",
    "outliers = df[(df['Yield'] < lower_bound) | (df['Yield'] > upper_bound)]\n",
    "print(\"Number of outliers:\", len(outliers))"
   ]
  },
  {
   "cell_type": "code",
   "execution_count": 442,
   "id": "3c223cac",
   "metadata": {},
   "outputs": [],
   "source": [
    "df['Yield'] = df['Yield'].clip(lower_bound, upper_bound)"
   ]
  },
  {
   "cell_type": "code",
   "execution_count": 443,
   "id": "f529ef32",
   "metadata": {},
   "outputs": [
    {
     "name": "stdout",
     "output_type": "stream",
     "text": [
      "<class 'pandas.core.frame.DataFrame'>\n",
      "Index: 272298 entries, 0 to 276267\n",
      "Data columns (total 8 columns):\n",
      " #   Column      Non-Null Count   Dtype  \n",
      "---  ------      --------------   -----  \n",
      " 0   State       272298 non-null  object \n",
      " 1   District    272298 non-null  object \n",
      " 2   Crop        272298 non-null  object \n",
      " 3   Crop_Year   272298 non-null  int64  \n",
      " 4   Season      272298 non-null  object \n",
      " 5   Area        272298 non-null  float64\n",
      " 6   Production  272298 non-null  float64\n",
      " 7   Yield       272298 non-null  float64\n",
      "dtypes: float64(3), int64(1), object(4)\n",
      "memory usage: 18.7+ MB\n"
     ]
    }
   ],
   "source": [
    "df.info()"
   ]
  },
  {
   "cell_type": "code",
   "execution_count": 444,
   "id": "d39a0760",
   "metadata": {},
   "outputs": [
    {
     "data": {
      "text/plain": [
       "array([[1.29441008e-01, 4.22763316e-01, 1.00000000e+00],\n",
       "       [1.23545264e-03, 5.04357085e-04, 1.29749768e-01],\n",
       "       [3.70826008e-03, 4.48317409e-02, 1.00000000e+00],\n",
       "       ...,\n",
       "       [5.69790948e-01, 1.00000000e+00, 1.00000000e+00],\n",
       "       [5.99085156e-03, 7.84555465e-04, 4.07784986e-02],\n",
       "       [2.65341749e-02, 6.33248340e-03, 7.59962929e-02]],\n",
       "      shape=(272298, 3))"
      ]
     },
     "execution_count": 444,
     "metadata": {},
     "output_type": "execute_result"
    }
   ],
   "source": [
    "from sklearn.preprocessing import MinMaxScaler\n",
    "\n",
    "scaler = MinMaxScaler()\n",
    "scaler.fit_transform(df[['Area', 'Production', 'Yield']])\n"
   ]
  },
  {
   "cell_type": "code",
   "execution_count": 445,
   "id": "050b73fe",
   "metadata": {},
   "outputs": [
    {
     "data": {
      "text/html": [
       "<div>\n",
       "<style scoped>\n",
       "    .dataframe tbody tr th:only-of-type {\n",
       "        vertical-align: middle;\n",
       "    }\n",
       "\n",
       "    .dataframe tbody tr th {\n",
       "        vertical-align: top;\n",
       "    }\n",
       "\n",
       "    .dataframe thead th {\n",
       "        text-align: right;\n",
       "    }\n",
       "</style>\n",
       "<table border=\"1\" class=\"dataframe\">\n",
       "  <thead>\n",
       "    <tr style=\"text-align: right;\">\n",
       "      <th></th>\n",
       "      <th>State</th>\n",
       "      <th>District</th>\n",
       "      <th>Crop</th>\n",
       "      <th>Crop_Year</th>\n",
       "      <th>Season</th>\n",
       "      <th>Area</th>\n",
       "      <th>Production</th>\n",
       "      <th>Yield</th>\n",
       "    </tr>\n",
       "  </thead>\n",
       "  <tbody>\n",
       "    <tr>\n",
       "      <th>0</th>\n",
       "      <td>Jharkhand</td>\n",
       "      <td>Ramgarh</td>\n",
       "      <td>Potato</td>\n",
       "      <td>2013</td>\n",
       "      <td>Winter</td>\n",
       "      <td>1361.0</td>\n",
       "      <td>7544.0</td>\n",
       "      <td>5.395</td>\n",
       "    </tr>\n",
       "    <tr>\n",
       "      <th>1</th>\n",
       "      <td>Jammu And Kashmir</td>\n",
       "      <td>Reasi</td>\n",
       "      <td>Moong(Green Gram)</td>\n",
       "      <td>2015</td>\n",
       "      <td>Kharif</td>\n",
       "      <td>13.0</td>\n",
       "      <td>9.0</td>\n",
       "      <td>0.700</td>\n",
       "    </tr>\n",
       "    <tr>\n",
       "      <th>2</th>\n",
       "      <td>Haryana</td>\n",
       "      <td>Gurgaon</td>\n",
       "      <td>Sweet Potato</td>\n",
       "      <td>2009</td>\n",
       "      <td>Whole Year</td>\n",
       "      <td>39.0</td>\n",
       "      <td>800.0</td>\n",
       "      <td>5.395</td>\n",
       "    </tr>\n",
       "    <tr>\n",
       "      <th>3</th>\n",
       "      <td>Uttar Pradesh</td>\n",
       "      <td>Jalaun</td>\n",
       "      <td>Sannhamp</td>\n",
       "      <td>2010</td>\n",
       "      <td>Kharif</td>\n",
       "      <td>9.0</td>\n",
       "      <td>3.0</td>\n",
       "      <td>0.330</td>\n",
       "    </tr>\n",
       "    <tr>\n",
       "      <th>4</th>\n",
       "      <td>Tamil Nadu</td>\n",
       "      <td>Madurai</td>\n",
       "      <td>Sugarcane</td>\n",
       "      <td>2006</td>\n",
       "      <td>Whole Year</td>\n",
       "      <td>6006.0</td>\n",
       "      <td>17844.5</td>\n",
       "      <td>5.395</td>\n",
       "    </tr>\n",
       "    <tr>\n",
       "      <th>...</th>\n",
       "      <td>...</td>\n",
       "      <td>...</td>\n",
       "      <td>...</td>\n",
       "      <td>...</td>\n",
       "      <td>...</td>\n",
       "      <td>...</td>\n",
       "      <td>...</td>\n",
       "      <td>...</td>\n",
       "    </tr>\n",
       "    <tr>\n",
       "      <th>276262</th>\n",
       "      <td>Jammu And Kashmir</td>\n",
       "      <td>Badgam</td>\n",
       "      <td>Potato</td>\n",
       "      <td>2014</td>\n",
       "      <td>Kharif</td>\n",
       "      <td>17.0</td>\n",
       "      <td>75.0</td>\n",
       "      <td>4.400</td>\n",
       "    </tr>\n",
       "    <tr>\n",
       "      <th>276263</th>\n",
       "      <td>Karnataka</td>\n",
       "      <td>Gadag</td>\n",
       "      <td>Castor Seed</td>\n",
       "      <td>2018</td>\n",
       "      <td>Kharif</td>\n",
       "      <td>13.0</td>\n",
       "      <td>7.0</td>\n",
       "      <td>0.540</td>\n",
       "    </tr>\n",
       "    <tr>\n",
       "      <th>276264</th>\n",
       "      <td>Tamil Nadu</td>\n",
       "      <td>Tiruchirappalli</td>\n",
       "      <td>Coconut</td>\n",
       "      <td>2002</td>\n",
       "      <td>Whole Year</td>\n",
       "      <td>5991.0</td>\n",
       "      <td>17844.5</td>\n",
       "      <td>5.395</td>\n",
       "    </tr>\n",
       "    <tr>\n",
       "      <th>276265</th>\n",
       "      <td>Karnataka</td>\n",
       "      <td>Chikkaballapura</td>\n",
       "      <td>Niger Seed</td>\n",
       "      <td>2017</td>\n",
       "      <td>Kharif</td>\n",
       "      <td>63.0</td>\n",
       "      <td>14.0</td>\n",
       "      <td>0.220</td>\n",
       "    </tr>\n",
       "    <tr>\n",
       "      <th>276267</th>\n",
       "      <td>Karnataka</td>\n",
       "      <td>Belagavi</td>\n",
       "      <td>Cowpea(Lobia)</td>\n",
       "      <td>2017</td>\n",
       "      <td>Rabi</td>\n",
       "      <td>279.0</td>\n",
       "      <td>113.0</td>\n",
       "      <td>0.410</td>\n",
       "    </tr>\n",
       "  </tbody>\n",
       "</table>\n",
       "<p>272298 rows × 8 columns</p>\n",
       "</div>"
      ],
      "text/plain": [
       "                    State         District               Crop  Crop_Year  \\\n",
       "0               Jharkhand          Ramgarh             Potato       2013   \n",
       "1       Jammu And Kashmir            Reasi  Moong(Green Gram)       2015   \n",
       "2                 Haryana          Gurgaon       Sweet Potato       2009   \n",
       "3           Uttar Pradesh           Jalaun           Sannhamp       2010   \n",
       "4              Tamil Nadu          Madurai          Sugarcane       2006   \n",
       "...                   ...              ...                ...        ...   \n",
       "276262  Jammu And Kashmir           Badgam             Potato       2014   \n",
       "276263          Karnataka            Gadag        Castor Seed       2018   \n",
       "276264         Tamil Nadu  Tiruchirappalli            Coconut       2002   \n",
       "276265          Karnataka  Chikkaballapura         Niger Seed       2017   \n",
       "276267          Karnataka         Belagavi      Cowpea(Lobia)       2017   \n",
       "\n",
       "            Season    Area  Production  Yield  \n",
       "0           Winter  1361.0      7544.0  5.395  \n",
       "1           Kharif    13.0         9.0  0.700  \n",
       "2       Whole Year    39.0       800.0  5.395  \n",
       "3           Kharif     9.0         3.0  0.330  \n",
       "4       Whole Year  6006.0     17844.5  5.395  \n",
       "...            ...     ...         ...    ...  \n",
       "276262      Kharif    17.0        75.0  4.400  \n",
       "276263      Kharif    13.0         7.0  0.540  \n",
       "276264  Whole Year  5991.0     17844.5  5.395  \n",
       "276265      Kharif    63.0        14.0  0.220  \n",
       "276267        Rabi   279.0       113.0  0.410  \n",
       "\n",
       "[272298 rows x 8 columns]"
      ]
     },
     "execution_count": 445,
     "metadata": {},
     "output_type": "execute_result"
    }
   ],
   "source": [
    "df"
   ]
  },
  {
   "cell_type": "code",
   "execution_count": 446,
   "id": "928f85e5",
   "metadata": {},
   "outputs": [
    {
     "data": {
      "text/html": [
       "<div>\n",
       "<style scoped>\n",
       "    .dataframe tbody tr th:only-of-type {\n",
       "        vertical-align: middle;\n",
       "    }\n",
       "\n",
       "    .dataframe tbody tr th {\n",
       "        vertical-align: top;\n",
       "    }\n",
       "\n",
       "    .dataframe thead th {\n",
       "        text-align: right;\n",
       "    }\n",
       "</style>\n",
       "<table border=\"1\" class=\"dataframe\">\n",
       "  <thead>\n",
       "    <tr style=\"text-align: right;\">\n",
       "      <th></th>\n",
       "      <th>State</th>\n",
       "      <th>District</th>\n",
       "      <th>Crop</th>\n",
       "      <th>Crop_Year</th>\n",
       "      <th>Season</th>\n",
       "      <th>Area</th>\n",
       "      <th>Production</th>\n",
       "      <th>Yield</th>\n",
       "    </tr>\n",
       "  </thead>\n",
       "  <tbody>\n",
       "    <tr>\n",
       "      <th>0</th>\n",
       "      <td>Jharkhand</td>\n",
       "      <td>Ramgarh</td>\n",
       "      <td>Potato</td>\n",
       "      <td>2013</td>\n",
       "      <td>Winter</td>\n",
       "      <td>1361.0</td>\n",
       "      <td>7544.0</td>\n",
       "      <td>5.395</td>\n",
       "    </tr>\n",
       "    <tr>\n",
       "      <th>1</th>\n",
       "      <td>Jammu And Kashmir</td>\n",
       "      <td>Reasi</td>\n",
       "      <td>Moong(Green Gram)</td>\n",
       "      <td>2015</td>\n",
       "      <td>Kharif</td>\n",
       "      <td>13.0</td>\n",
       "      <td>9.0</td>\n",
       "      <td>0.700</td>\n",
       "    </tr>\n",
       "    <tr>\n",
       "      <th>2</th>\n",
       "      <td>Haryana</td>\n",
       "      <td>Gurgaon</td>\n",
       "      <td>Sweet Potato</td>\n",
       "      <td>2009</td>\n",
       "      <td>Whole Year</td>\n",
       "      <td>39.0</td>\n",
       "      <td>800.0</td>\n",
       "      <td>5.395</td>\n",
       "    </tr>\n",
       "    <tr>\n",
       "      <th>3</th>\n",
       "      <td>Uttar Pradesh</td>\n",
       "      <td>Jalaun</td>\n",
       "      <td>Sannhamp</td>\n",
       "      <td>2010</td>\n",
       "      <td>Kharif</td>\n",
       "      <td>9.0</td>\n",
       "      <td>3.0</td>\n",
       "      <td>0.330</td>\n",
       "    </tr>\n",
       "    <tr>\n",
       "      <th>4</th>\n",
       "      <td>Tamil Nadu</td>\n",
       "      <td>Madurai</td>\n",
       "      <td>Sugarcane</td>\n",
       "      <td>2006</td>\n",
       "      <td>Whole Year</td>\n",
       "      <td>6006.0</td>\n",
       "      <td>17844.5</td>\n",
       "      <td>5.395</td>\n",
       "    </tr>\n",
       "    <tr>\n",
       "      <th>...</th>\n",
       "      <td>...</td>\n",
       "      <td>...</td>\n",
       "      <td>...</td>\n",
       "      <td>...</td>\n",
       "      <td>...</td>\n",
       "      <td>...</td>\n",
       "      <td>...</td>\n",
       "      <td>...</td>\n",
       "    </tr>\n",
       "    <tr>\n",
       "      <th>276262</th>\n",
       "      <td>Jammu And Kashmir</td>\n",
       "      <td>Badgam</td>\n",
       "      <td>Potato</td>\n",
       "      <td>2014</td>\n",
       "      <td>Kharif</td>\n",
       "      <td>17.0</td>\n",
       "      <td>75.0</td>\n",
       "      <td>4.400</td>\n",
       "    </tr>\n",
       "    <tr>\n",
       "      <th>276263</th>\n",
       "      <td>Karnataka</td>\n",
       "      <td>Gadag</td>\n",
       "      <td>Castor Seed</td>\n",
       "      <td>2018</td>\n",
       "      <td>Kharif</td>\n",
       "      <td>13.0</td>\n",
       "      <td>7.0</td>\n",
       "      <td>0.540</td>\n",
       "    </tr>\n",
       "    <tr>\n",
       "      <th>276264</th>\n",
       "      <td>Tamil Nadu</td>\n",
       "      <td>Tiruchirappalli</td>\n",
       "      <td>Coconut</td>\n",
       "      <td>2002</td>\n",
       "      <td>Whole Year</td>\n",
       "      <td>5991.0</td>\n",
       "      <td>17844.5</td>\n",
       "      <td>5.395</td>\n",
       "    </tr>\n",
       "    <tr>\n",
       "      <th>276265</th>\n",
       "      <td>Karnataka</td>\n",
       "      <td>Chikkaballapura</td>\n",
       "      <td>Niger Seed</td>\n",
       "      <td>2017</td>\n",
       "      <td>Kharif</td>\n",
       "      <td>63.0</td>\n",
       "      <td>14.0</td>\n",
       "      <td>0.220</td>\n",
       "    </tr>\n",
       "    <tr>\n",
       "      <th>276267</th>\n",
       "      <td>Karnataka</td>\n",
       "      <td>Belagavi</td>\n",
       "      <td>Cowpea(Lobia)</td>\n",
       "      <td>2017</td>\n",
       "      <td>Rabi</td>\n",
       "      <td>279.0</td>\n",
       "      <td>113.0</td>\n",
       "      <td>0.410</td>\n",
       "    </tr>\n",
       "  </tbody>\n",
       "</table>\n",
       "<p>272298 rows × 8 columns</p>\n",
       "</div>"
      ],
      "text/plain": [
       "                    State         District               Crop  Crop_Year  \\\n",
       "0               Jharkhand          Ramgarh             Potato       2013   \n",
       "1       Jammu And Kashmir            Reasi  Moong(Green Gram)       2015   \n",
       "2                 Haryana          Gurgaon       Sweet Potato       2009   \n",
       "3           Uttar Pradesh           Jalaun           Sannhamp       2010   \n",
       "4              Tamil Nadu          Madurai          Sugarcane       2006   \n",
       "...                   ...              ...                ...        ...   \n",
       "276262  Jammu And Kashmir           Badgam             Potato       2014   \n",
       "276263          Karnataka            Gadag        Castor Seed       2018   \n",
       "276264         Tamil Nadu  Tiruchirappalli            Coconut       2002   \n",
       "276265          Karnataka  Chikkaballapura         Niger Seed       2017   \n",
       "276267          Karnataka         Belagavi      Cowpea(Lobia)       2017   \n",
       "\n",
       "            Season    Area  Production  Yield  \n",
       "0           Winter  1361.0      7544.0  5.395  \n",
       "1           Kharif    13.0         9.0  0.700  \n",
       "2       Whole Year    39.0       800.0  5.395  \n",
       "3           Kharif     9.0         3.0  0.330  \n",
       "4       Whole Year  6006.0     17844.5  5.395  \n",
       "...            ...     ...         ...    ...  \n",
       "276262      Kharif    17.0        75.0  4.400  \n",
       "276263      Kharif    13.0         7.0  0.540  \n",
       "276264  Whole Year  5991.0     17844.5  5.395  \n",
       "276265      Kharif    63.0        14.0  0.220  \n",
       "276267        Rabi   279.0       113.0  0.410  \n",
       "\n",
       "[272298 rows x 8 columns]"
      ]
     },
     "execution_count": 446,
     "metadata": {},
     "output_type": "execute_result"
    }
   ],
   "source": [
    "# Define features and target\n",
    "target = 'Yield_normalized'\n",
    "categorical_features = ['State', 'District', 'Crop', 'Season']\n",
    "drop_columns = ['Production', 'Production_normalized', 'Yield']\n",
    "\n",
    "df"
   ]
  },
  {
   "cell_type": "code",
   "execution_count": 447,
   "id": "59bf588f",
   "metadata": {},
   "outputs": [],
   "source": [
    "from sklearn.model_selection import train_test_split\n",
    "\n",
    "X_train, X_test, y_train, y_test = train_test_split(X, y, test_size=0.2, random_state=42)\n"
   ]
  },
  {
   "cell_type": "code",
   "execution_count": 448,
   "id": "bdc002ca",
   "metadata": {},
   "outputs": [],
   "source": [
    "X_train_encoded = X_train.copy()\n",
    "X_test_encoded = X_test.copy()\n",
    "for col in categorical_features:\n",
    "    X_train_encoded[col] = X_train[col].astype('category').cat.codes\n",
    "    X_test_encoded[col] = X_test[col].astype('category').cat.codes\n"
   ]
  },
  {
   "cell_type": "code",
   "execution_count": 449,
   "id": "2b5710ae",
   "metadata": {},
   "outputs": [
    {
     "data": {
      "text/plain": [
       "array([[0.08333333, 0.62695035, 0.14814815, 0.52173913, 0.2       ],\n",
       "       [0.91666667, 0.47801418, 0.87037037, 0.95652174, 0.8       ],\n",
       "       [0.02777778, 0.96737589, 0.75925926, 0.7826087 , 0.2       ],\n",
       "       ...,\n",
       "       [1.        , 0.24255319, 0.81481481, 0.13043478, 0.8       ],\n",
       "       [0.05555556, 0.54042553, 0.83333333, 0.95652174, 0.2       ],\n",
       "       [0.94444444, 0.18156028, 0.5       , 0.        , 0.6       ]],\n",
       "      shape=(217838, 5))"
      ]
     },
     "execution_count": 449,
     "metadata": {},
     "output_type": "execute_result"
    }
   ],
   "source": [
    "from sklearn.preprocessing import MinMaxScaler\n",
    "\n",
    "scaler = MinMaxScaler()\n",
    "scaler.fit_transform(X_train_encoded[['State', 'District','Crop','Crop_Year', 'Season']])"
   ]
  },
  {
   "cell_type": "code",
   "execution_count": 450,
   "id": "01465410",
   "metadata": {},
   "outputs": [],
   "source": [
    "from sklearn.preprocessing import StandardScaler\n",
    "\n",
    "scaler = StandardScaler()\n",
    "numerical_cols = X_train_encoded.select_dtypes(include=[np.number]).columns.tolist()\n",
    "X_train_scaled = X_train_encoded.copy()\n",
    "X_test_scaled = X_test_encoded.copy()\n",
    "X_train_scaled[numerical_cols] = scaler.fit_transform(X_train_encoded[numerical_cols])\n",
    "X_test_scaled[numerical_cols] = scaler.transform(X_test_encoded[numerical_cols])"
   ]
  },
  {
   "cell_type": "code",
   "execution_count": 451,
   "id": "e4b8106d",
   "metadata": {},
   "outputs": [],
   "source": [
    "from catboost import CatBoostRegressor\n",
    "from sklearn.metrics import mean_squared_error, r2_score"
   ]
  },
  {
   "cell_type": "code",
   "execution_count": 452,
   "id": "8d35a8bf",
   "metadata": {},
   "outputs": [],
   "source": [
    "catboost_model = CatBoostRegressor(verbose=0, random_state=42)\n",
    "\n",
    "catboost_model.fit(X_train, y_train, cat_features=categorical_features)\n",
    "\n",
    "y_pred_cat = catboost_model.predict(X_test)"
   ]
  },
  {
   "cell_type": "code",
   "execution_count": 453,
   "id": "35aa74bd",
   "metadata": {},
   "outputs": [
    {
     "data": {
      "text/plain": [
       "0.9130379090742538"
      ]
     },
     "execution_count": 453,
     "metadata": {},
     "output_type": "execute_result"
    }
   ],
   "source": [
    "cat_rmse = mean_squared_error(y_test, y_pred_cat)\n",
    "r2_score(y_test, y_pred_cat)\n"
   ]
  },
  {
   "cell_type": "code",
   "execution_count": 454,
   "id": "02412b73",
   "metadata": {},
   "outputs": [],
   "source": [
    "from sklearn.neural_network import MLPRegressor"
   ]
  },
  {
   "cell_type": "code",
   "execution_count": 455,
   "id": "80ae1733",
   "metadata": {},
   "outputs": [
    {
     "data": {
      "text/html": [
       "<style>#sk-container-id-8 {\n",
       "  /* Definition of color scheme common for light and dark mode */\n",
       "  --sklearn-color-text: #000;\n",
       "  --sklearn-color-text-muted: #666;\n",
       "  --sklearn-color-line: gray;\n",
       "  /* Definition of color scheme for unfitted estimators */\n",
       "  --sklearn-color-unfitted-level-0: #fff5e6;\n",
       "  --sklearn-color-unfitted-level-1: #f6e4d2;\n",
       "  --sklearn-color-unfitted-level-2: #ffe0b3;\n",
       "  --sklearn-color-unfitted-level-3: chocolate;\n",
       "  /* Definition of color scheme for fitted estimators */\n",
       "  --sklearn-color-fitted-level-0: #f0f8ff;\n",
       "  --sklearn-color-fitted-level-1: #d4ebff;\n",
       "  --sklearn-color-fitted-level-2: #b3dbfd;\n",
       "  --sklearn-color-fitted-level-3: cornflowerblue;\n",
       "\n",
       "  /* Specific color for light theme */\n",
       "  --sklearn-color-text-on-default-background: var(--sg-text-color, var(--theme-code-foreground, var(--jp-content-font-color1, black)));\n",
       "  --sklearn-color-background: var(--sg-background-color, var(--theme-background, var(--jp-layout-color0, white)));\n",
       "  --sklearn-color-border-box: var(--sg-text-color, var(--theme-code-foreground, var(--jp-content-font-color1, black)));\n",
       "  --sklearn-color-icon: #696969;\n",
       "\n",
       "  @media (prefers-color-scheme: dark) {\n",
       "    /* Redefinition of color scheme for dark theme */\n",
       "    --sklearn-color-text-on-default-background: var(--sg-text-color, var(--theme-code-foreground, var(--jp-content-font-color1, white)));\n",
       "    --sklearn-color-background: var(--sg-background-color, var(--theme-background, var(--jp-layout-color0, #111)));\n",
       "    --sklearn-color-border-box: var(--sg-text-color, var(--theme-code-foreground, var(--jp-content-font-color1, white)));\n",
       "    --sklearn-color-icon: #878787;\n",
       "  }\n",
       "}\n",
       "\n",
       "#sk-container-id-8 {\n",
       "  color: var(--sklearn-color-text);\n",
       "}\n",
       "\n",
       "#sk-container-id-8 pre {\n",
       "  padding: 0;\n",
       "}\n",
       "\n",
       "#sk-container-id-8 input.sk-hidden--visually {\n",
       "  border: 0;\n",
       "  clip: rect(1px 1px 1px 1px);\n",
       "  clip: rect(1px, 1px, 1px, 1px);\n",
       "  height: 1px;\n",
       "  margin: -1px;\n",
       "  overflow: hidden;\n",
       "  padding: 0;\n",
       "  position: absolute;\n",
       "  width: 1px;\n",
       "}\n",
       "\n",
       "#sk-container-id-8 div.sk-dashed-wrapped {\n",
       "  border: 1px dashed var(--sklearn-color-line);\n",
       "  margin: 0 0.4em 0.5em 0.4em;\n",
       "  box-sizing: border-box;\n",
       "  padding-bottom: 0.4em;\n",
       "  background-color: var(--sklearn-color-background);\n",
       "}\n",
       "\n",
       "#sk-container-id-8 div.sk-container {\n",
       "  /* jupyter's `normalize.less` sets `[hidden] { display: none; }`\n",
       "     but bootstrap.min.css set `[hidden] { display: none !important; }`\n",
       "     so we also need the `!important` here to be able to override the\n",
       "     default hidden behavior on the sphinx rendered scikit-learn.org.\n",
       "     See: https://github.com/scikit-learn/scikit-learn/issues/21755 */\n",
       "  display: inline-block !important;\n",
       "  position: relative;\n",
       "}\n",
       "\n",
       "#sk-container-id-8 div.sk-text-repr-fallback {\n",
       "  display: none;\n",
       "}\n",
       "\n",
       "div.sk-parallel-item,\n",
       "div.sk-serial,\n",
       "div.sk-item {\n",
       "  /* draw centered vertical line to link estimators */\n",
       "  background-image: linear-gradient(var(--sklearn-color-text-on-default-background), var(--sklearn-color-text-on-default-background));\n",
       "  background-size: 2px 100%;\n",
       "  background-repeat: no-repeat;\n",
       "  background-position: center center;\n",
       "}\n",
       "\n",
       "/* Parallel-specific style estimator block */\n",
       "\n",
       "#sk-container-id-8 div.sk-parallel-item::after {\n",
       "  content: \"\";\n",
       "  width: 100%;\n",
       "  border-bottom: 2px solid var(--sklearn-color-text-on-default-background);\n",
       "  flex-grow: 1;\n",
       "}\n",
       "\n",
       "#sk-container-id-8 div.sk-parallel {\n",
       "  display: flex;\n",
       "  align-items: stretch;\n",
       "  justify-content: center;\n",
       "  background-color: var(--sklearn-color-background);\n",
       "  position: relative;\n",
       "}\n",
       "\n",
       "#sk-container-id-8 div.sk-parallel-item {\n",
       "  display: flex;\n",
       "  flex-direction: column;\n",
       "}\n",
       "\n",
       "#sk-container-id-8 div.sk-parallel-item:first-child::after {\n",
       "  align-self: flex-end;\n",
       "  width: 50%;\n",
       "}\n",
       "\n",
       "#sk-container-id-8 div.sk-parallel-item:last-child::after {\n",
       "  align-self: flex-start;\n",
       "  width: 50%;\n",
       "}\n",
       "\n",
       "#sk-container-id-8 div.sk-parallel-item:only-child::after {\n",
       "  width: 0;\n",
       "}\n",
       "\n",
       "/* Serial-specific style estimator block */\n",
       "\n",
       "#sk-container-id-8 div.sk-serial {\n",
       "  display: flex;\n",
       "  flex-direction: column;\n",
       "  align-items: center;\n",
       "  background-color: var(--sklearn-color-background);\n",
       "  padding-right: 1em;\n",
       "  padding-left: 1em;\n",
       "}\n",
       "\n",
       "\n",
       "/* Toggleable style: style used for estimator/Pipeline/ColumnTransformer box that is\n",
       "clickable and can be expanded/collapsed.\n",
       "- Pipeline and ColumnTransformer use this feature and define the default style\n",
       "- Estimators will overwrite some part of the style using the `sk-estimator` class\n",
       "*/\n",
       "\n",
       "/* Pipeline and ColumnTransformer style (default) */\n",
       "\n",
       "#sk-container-id-8 div.sk-toggleable {\n",
       "  /* Default theme specific background. It is overwritten whether we have a\n",
       "  specific estimator or a Pipeline/ColumnTransformer */\n",
       "  background-color: var(--sklearn-color-background);\n",
       "}\n",
       "\n",
       "/* Toggleable label */\n",
       "#sk-container-id-8 label.sk-toggleable__label {\n",
       "  cursor: pointer;\n",
       "  display: flex;\n",
       "  width: 100%;\n",
       "  margin-bottom: 0;\n",
       "  padding: 0.5em;\n",
       "  box-sizing: border-box;\n",
       "  text-align: center;\n",
       "  align-items: start;\n",
       "  justify-content: space-between;\n",
       "  gap: 0.5em;\n",
       "}\n",
       "\n",
       "#sk-container-id-8 label.sk-toggleable__label .caption {\n",
       "  font-size: 0.6rem;\n",
       "  font-weight: lighter;\n",
       "  color: var(--sklearn-color-text-muted);\n",
       "}\n",
       "\n",
       "#sk-container-id-8 label.sk-toggleable__label-arrow:before {\n",
       "  /* Arrow on the left of the label */\n",
       "  content: \"▸\";\n",
       "  float: left;\n",
       "  margin-right: 0.25em;\n",
       "  color: var(--sklearn-color-icon);\n",
       "}\n",
       "\n",
       "#sk-container-id-8 label.sk-toggleable__label-arrow:hover:before {\n",
       "  color: var(--sklearn-color-text);\n",
       "}\n",
       "\n",
       "/* Toggleable content - dropdown */\n",
       "\n",
       "#sk-container-id-8 div.sk-toggleable__content {\n",
       "  max-height: 0;\n",
       "  max-width: 0;\n",
       "  overflow: hidden;\n",
       "  text-align: left;\n",
       "  /* unfitted */\n",
       "  background-color: var(--sklearn-color-unfitted-level-0);\n",
       "}\n",
       "\n",
       "#sk-container-id-8 div.sk-toggleable__content.fitted {\n",
       "  /* fitted */\n",
       "  background-color: var(--sklearn-color-fitted-level-0);\n",
       "}\n",
       "\n",
       "#sk-container-id-8 div.sk-toggleable__content pre {\n",
       "  margin: 0.2em;\n",
       "  border-radius: 0.25em;\n",
       "  color: var(--sklearn-color-text);\n",
       "  /* unfitted */\n",
       "  background-color: var(--sklearn-color-unfitted-level-0);\n",
       "}\n",
       "\n",
       "#sk-container-id-8 div.sk-toggleable__content.fitted pre {\n",
       "  /* unfitted */\n",
       "  background-color: var(--sklearn-color-fitted-level-0);\n",
       "}\n",
       "\n",
       "#sk-container-id-8 input.sk-toggleable__control:checked~div.sk-toggleable__content {\n",
       "  /* Expand drop-down */\n",
       "  max-height: 200px;\n",
       "  max-width: 100%;\n",
       "  overflow: auto;\n",
       "}\n",
       "\n",
       "#sk-container-id-8 input.sk-toggleable__control:checked~label.sk-toggleable__label-arrow:before {\n",
       "  content: \"▾\";\n",
       "}\n",
       "\n",
       "/* Pipeline/ColumnTransformer-specific style */\n",
       "\n",
       "#sk-container-id-8 div.sk-label input.sk-toggleable__control:checked~label.sk-toggleable__label {\n",
       "  color: var(--sklearn-color-text);\n",
       "  background-color: var(--sklearn-color-unfitted-level-2);\n",
       "}\n",
       "\n",
       "#sk-container-id-8 div.sk-label.fitted input.sk-toggleable__control:checked~label.sk-toggleable__label {\n",
       "  background-color: var(--sklearn-color-fitted-level-2);\n",
       "}\n",
       "\n",
       "/* Estimator-specific style */\n",
       "\n",
       "/* Colorize estimator box */\n",
       "#sk-container-id-8 div.sk-estimator input.sk-toggleable__control:checked~label.sk-toggleable__label {\n",
       "  /* unfitted */\n",
       "  background-color: var(--sklearn-color-unfitted-level-2);\n",
       "}\n",
       "\n",
       "#sk-container-id-8 div.sk-estimator.fitted input.sk-toggleable__control:checked~label.sk-toggleable__label {\n",
       "  /* fitted */\n",
       "  background-color: var(--sklearn-color-fitted-level-2);\n",
       "}\n",
       "\n",
       "#sk-container-id-8 div.sk-label label.sk-toggleable__label,\n",
       "#sk-container-id-8 div.sk-label label {\n",
       "  /* The background is the default theme color */\n",
       "  color: var(--sklearn-color-text-on-default-background);\n",
       "}\n",
       "\n",
       "/* On hover, darken the color of the background */\n",
       "#sk-container-id-8 div.sk-label:hover label.sk-toggleable__label {\n",
       "  color: var(--sklearn-color-text);\n",
       "  background-color: var(--sklearn-color-unfitted-level-2);\n",
       "}\n",
       "\n",
       "/* Label box, darken color on hover, fitted */\n",
       "#sk-container-id-8 div.sk-label.fitted:hover label.sk-toggleable__label.fitted {\n",
       "  color: var(--sklearn-color-text);\n",
       "  background-color: var(--sklearn-color-fitted-level-2);\n",
       "}\n",
       "\n",
       "/* Estimator label */\n",
       "\n",
       "#sk-container-id-8 div.sk-label label {\n",
       "  font-family: monospace;\n",
       "  font-weight: bold;\n",
       "  display: inline-block;\n",
       "  line-height: 1.2em;\n",
       "}\n",
       "\n",
       "#sk-container-id-8 div.sk-label-container {\n",
       "  text-align: center;\n",
       "}\n",
       "\n",
       "/* Estimator-specific */\n",
       "#sk-container-id-8 div.sk-estimator {\n",
       "  font-family: monospace;\n",
       "  border: 1px dotted var(--sklearn-color-border-box);\n",
       "  border-radius: 0.25em;\n",
       "  box-sizing: border-box;\n",
       "  margin-bottom: 0.5em;\n",
       "  /* unfitted */\n",
       "  background-color: var(--sklearn-color-unfitted-level-0);\n",
       "}\n",
       "\n",
       "#sk-container-id-8 div.sk-estimator.fitted {\n",
       "  /* fitted */\n",
       "  background-color: var(--sklearn-color-fitted-level-0);\n",
       "}\n",
       "\n",
       "/* on hover */\n",
       "#sk-container-id-8 div.sk-estimator:hover {\n",
       "  /* unfitted */\n",
       "  background-color: var(--sklearn-color-unfitted-level-2);\n",
       "}\n",
       "\n",
       "#sk-container-id-8 div.sk-estimator.fitted:hover {\n",
       "  /* fitted */\n",
       "  background-color: var(--sklearn-color-fitted-level-2);\n",
       "}\n",
       "\n",
       "/* Specification for estimator info (e.g. \"i\" and \"?\") */\n",
       "\n",
       "/* Common style for \"i\" and \"?\" */\n",
       "\n",
       ".sk-estimator-doc-link,\n",
       "a:link.sk-estimator-doc-link,\n",
       "a:visited.sk-estimator-doc-link {\n",
       "  float: right;\n",
       "  font-size: smaller;\n",
       "  line-height: 1em;\n",
       "  font-family: monospace;\n",
       "  background-color: var(--sklearn-color-background);\n",
       "  border-radius: 1em;\n",
       "  height: 1em;\n",
       "  width: 1em;\n",
       "  text-decoration: none !important;\n",
       "  margin-left: 0.5em;\n",
       "  text-align: center;\n",
       "  /* unfitted */\n",
       "  border: var(--sklearn-color-unfitted-level-1) 1pt solid;\n",
       "  color: var(--sklearn-color-unfitted-level-1);\n",
       "}\n",
       "\n",
       ".sk-estimator-doc-link.fitted,\n",
       "a:link.sk-estimator-doc-link.fitted,\n",
       "a:visited.sk-estimator-doc-link.fitted {\n",
       "  /* fitted */\n",
       "  border: var(--sklearn-color-fitted-level-1) 1pt solid;\n",
       "  color: var(--sklearn-color-fitted-level-1);\n",
       "}\n",
       "\n",
       "/* On hover */\n",
       "div.sk-estimator:hover .sk-estimator-doc-link:hover,\n",
       ".sk-estimator-doc-link:hover,\n",
       "div.sk-label-container:hover .sk-estimator-doc-link:hover,\n",
       ".sk-estimator-doc-link:hover {\n",
       "  /* unfitted */\n",
       "  background-color: var(--sklearn-color-unfitted-level-3);\n",
       "  color: var(--sklearn-color-background);\n",
       "  text-decoration: none;\n",
       "}\n",
       "\n",
       "div.sk-estimator.fitted:hover .sk-estimator-doc-link.fitted:hover,\n",
       ".sk-estimator-doc-link.fitted:hover,\n",
       "div.sk-label-container:hover .sk-estimator-doc-link.fitted:hover,\n",
       ".sk-estimator-doc-link.fitted:hover {\n",
       "  /* fitted */\n",
       "  background-color: var(--sklearn-color-fitted-level-3);\n",
       "  color: var(--sklearn-color-background);\n",
       "  text-decoration: none;\n",
       "}\n",
       "\n",
       "/* Span, style for the box shown on hovering the info icon */\n",
       ".sk-estimator-doc-link span {\n",
       "  display: none;\n",
       "  z-index: 9999;\n",
       "  position: relative;\n",
       "  font-weight: normal;\n",
       "  right: .2ex;\n",
       "  padding: .5ex;\n",
       "  margin: .5ex;\n",
       "  width: min-content;\n",
       "  min-width: 20ex;\n",
       "  max-width: 50ex;\n",
       "  color: var(--sklearn-color-text);\n",
       "  box-shadow: 2pt 2pt 4pt #999;\n",
       "  /* unfitted */\n",
       "  background: var(--sklearn-color-unfitted-level-0);\n",
       "  border: .5pt solid var(--sklearn-color-unfitted-level-3);\n",
       "}\n",
       "\n",
       ".sk-estimator-doc-link.fitted span {\n",
       "  /* fitted */\n",
       "  background: var(--sklearn-color-fitted-level-0);\n",
       "  border: var(--sklearn-color-fitted-level-3);\n",
       "}\n",
       "\n",
       ".sk-estimator-doc-link:hover span {\n",
       "  display: block;\n",
       "}\n",
       "\n",
       "/* \"?\"-specific style due to the `<a>` HTML tag */\n",
       "\n",
       "#sk-container-id-8 a.estimator_doc_link {\n",
       "  float: right;\n",
       "  font-size: 1rem;\n",
       "  line-height: 1em;\n",
       "  font-family: monospace;\n",
       "  background-color: var(--sklearn-color-background);\n",
       "  border-radius: 1rem;\n",
       "  height: 1rem;\n",
       "  width: 1rem;\n",
       "  text-decoration: none;\n",
       "  /* unfitted */\n",
       "  color: var(--sklearn-color-unfitted-level-1);\n",
       "  border: var(--sklearn-color-unfitted-level-1) 1pt solid;\n",
       "}\n",
       "\n",
       "#sk-container-id-8 a.estimator_doc_link.fitted {\n",
       "  /* fitted */\n",
       "  border: var(--sklearn-color-fitted-level-1) 1pt solid;\n",
       "  color: var(--sklearn-color-fitted-level-1);\n",
       "}\n",
       "\n",
       "/* On hover */\n",
       "#sk-container-id-8 a.estimator_doc_link:hover {\n",
       "  /* unfitted */\n",
       "  background-color: var(--sklearn-color-unfitted-level-3);\n",
       "  color: var(--sklearn-color-background);\n",
       "  text-decoration: none;\n",
       "}\n",
       "\n",
       "#sk-container-id-8 a.estimator_doc_link.fitted:hover {\n",
       "  /* fitted */\n",
       "  background-color: var(--sklearn-color-fitted-level-3);\n",
       "}\n",
       "</style><div id=\"sk-container-id-8\" class=\"sk-top-container\"><div class=\"sk-text-repr-fallback\"><pre>MLPRegressor(hidden_layer_sizes=(128, 64), max_iter=500, random_state=42)</pre><b>In a Jupyter environment, please rerun this cell to show the HTML representation or trust the notebook. <br />On GitHub, the HTML representation is unable to render, please try loading this page with nbviewer.org.</b></div><div class=\"sk-container\" hidden><div class=\"sk-item\"><div class=\"sk-estimator fitted sk-toggleable\"><input class=\"sk-toggleable__control sk-hidden--visually\" id=\"sk-estimator-id-8\" type=\"checkbox\" checked><label for=\"sk-estimator-id-8\" class=\"sk-toggleable__label fitted sk-toggleable__label-arrow\"><div><div>MLPRegressor</div></div><div><a class=\"sk-estimator-doc-link fitted\" rel=\"noreferrer\" target=\"_blank\" href=\"https://scikit-learn.org/1.6/modules/generated/sklearn.neural_network.MLPRegressor.html\">?<span>Documentation for MLPRegressor</span></a><span class=\"sk-estimator-doc-link fitted\">i<span>Fitted</span></span></div></label><div class=\"sk-toggleable__content fitted\"><pre>MLPRegressor(hidden_layer_sizes=(128, 64), max_iter=500, random_state=42)</pre></div> </div></div></div></div>"
      ],
      "text/plain": [
       "MLPRegressor(hidden_layer_sizes=(128, 64), max_iter=500, random_state=42)"
      ]
     },
     "execution_count": 455,
     "metadata": {},
     "output_type": "execute_result"
    }
   ],
   "source": [
    "mlp_model = MLPRegressor(hidden_layer_sizes=(128, 64), max_iter=500, random_state=42)\n",
    "mlp_model.fit(X_train_scaled, y_train)"
   ]
  },
  {
   "cell_type": "code",
   "execution_count": 456,
   "id": "1381984c",
   "metadata": {},
   "outputs": [
    {
     "data": {
      "text/plain": [
       "array([0.50683734, 0.38152302, 0.98511559, ..., 0.4724519 , 0.19399716,\n",
       "       0.26129548], shape=(54460,))"
      ]
     },
     "execution_count": 456,
     "metadata": {},
     "output_type": "execute_result"
    }
   ],
   "source": [
    "y_pred_mlp = mlp_model.predict(X_test_scaled)\n",
    "y_pred_mlp"
   ]
  },
  {
   "cell_type": "code",
   "execution_count": 457,
   "id": "747f7f21",
   "metadata": {},
   "outputs": [
    {
     "data": {
      "text/plain": [
       "0.7272908194172891"
      ]
     },
     "execution_count": 457,
     "metadata": {},
     "output_type": "execute_result"
    }
   ],
   "source": [
    "mlp_rmse = mean_squared_error(y_test, y_pred_mlp)\n",
    "r2_score(y_test, y_pred_mlp)"
   ]
  },
  {
   "cell_type": "code",
   "execution_count": 458,
   "id": "ddf0043c",
   "metadata": {},
   "outputs": [],
   "source": [
    "import lightgbm as lgb"
   ]
  },
  {
   "cell_type": "code",
   "execution_count": 459,
   "id": "33f70d11",
   "metadata": {},
   "outputs": [],
   "source": [
    "lgb_train = lgb.Dataset(X_train_encoded, y_train, categorical_feature=categorical_features, free_raw_data=False)\n",
    "lgb_test = lgb.Dataset(X_test_encoded, y_test, reference=lgb_train)"
   ]
  },
  {
   "cell_type": "code",
   "execution_count": 460,
   "id": "3f31ad97",
   "metadata": {},
   "outputs": [],
   "source": [
    "lgbm_params = {\n",
    "    'objective': 'regression',\n",
    "    'metric': 'rmse',\n",
    "    'verbosity': -1,\n",
    "    'random_state': 42\n",
    "}\n",
    "\n",
    "lgb_model = lgb.train(lgbm_params, lgb_train, num_boost_round=100, valid_sets=[lgb_test])\n",
    "\n",
    "y_pred_lgb = lgb_model.predict(X_test_encoded)"
   ]
  },
  {
   "cell_type": "code",
   "execution_count": 461,
   "id": "c2b51869",
   "metadata": {},
   "outputs": [
    {
     "data": {
      "text/plain": [
       "0.8748311946744768"
      ]
     },
     "execution_count": 461,
     "metadata": {},
     "output_type": "execute_result"
    }
   ],
   "source": [
    "lgb_rmse = mean_squared_error(y_test, y_pred_lgb)\n",
    "r2_score(y_test, y_pred_lgb)"
   ]
  },
  {
   "cell_type": "code",
   "execution_count": 462,
   "id": "0ebe9826",
   "metadata": {},
   "outputs": [
    {
     "name": "stdout",
     "output_type": "stream",
     "text": [
      "🎯 Sample input (raw):\n",
      "                               253935\n",
      "State                       Karnataka\n",
      "District                      Ballari\n",
      "Crop                            Jowar\n",
      "Crop_Year                        2007\n",
      "Season                         Summer\n",
      "Area                            967.0\n",
      "Area_normalized              0.091968\n",
      "Area_CropYear               1940769.0\n",
      "Years_Since_2000                    7\n",
      "Is_Post_Green_Revolution            1\n",
      "Area_Normalized_District     0.246951\n",
      "Simulated_Rainfall        1032.877347\n",
      "Simulated_Soil_pH            6.729198\n",
      "Simulated_NDVI               0.514961\n",
      "Simulated_Temperature       23.097062\n"
     ]
    }
   ],
   "source": [
    "# Pick a random test sample (can use .iloc[n] to manually pick one)\n",
    "sample_index = 0\n",
    "sample_raw = X_test.iloc[[sample_index]]\n",
    "sample_encoded = X_test_encoded.iloc[[sample_index]]\n",
    "sample_scaled = X_test_scaled.iloc[[sample_index]]\n",
    "\n",
    "# Show the sample input\n",
    "print(\"🎯 Sample input (raw):\")\n",
    "print(sample_raw.T)\n"
   ]
  },
  {
   "cell_type": "code",
   "execution_count": 463,
   "id": "ee980d15",
   "metadata": {},
   "outputs": [
    {
     "name": "stdout",
     "output_type": "stream",
     "text": [
      "\n",
      "📈 Predictions for sample input:\n",
      "CatBoost Prediction     : 0.38\n",
      "LightGBM Prediction     : 0.32\n",
      "Neural Net Prediction   : 0.51\n",
      "Actual Yield            : 0.44\n"
     ]
    }
   ],
   "source": [
    "# CatBoost (uses raw data)\n",
    "pred_cat = catboost_model.predict(sample_raw)[0]\n",
    "\n",
    "# LightGBM (uses encoded data)\n",
    "pred_lgb = lgb_model.predict(sample_encoded)[0]\n",
    "\n",
    "# Neural Net (uses scaled numeric data)\n",
    "pred_mlp = mlp_model.predict(sample_scaled)[0]\n",
    "\n",
    "print(\"\\n📈 Predictions for sample input:\")\n",
    "print(f\"CatBoost Prediction     : {pred_cat:.2f}\")\n",
    "print(f\"LightGBM Prediction     : {pred_lgb:.2f}\")\n",
    "print(f\"Neural Net Prediction   : {pred_mlp:.2f}\")\n",
    "print(f\"Actual Yield            : {y_test.iloc[sample_index]:.2f}\")\n"
   ]
  },
  {
   "cell_type": "code",
   "execution_count": 464,
   "id": "53590215",
   "metadata": {},
   "outputs": [
    {
     "name": "stderr",
     "output_type": "stream",
     "text": [
      "c:\\Users\\sjai5\\Desktop\\deep_data_hackathon\\venv\\Lib\\site-packages\\IPython\\core\\pylabtools.py:170: UserWarning: Glyph 128202 (\\N{BAR CHART}) missing from font(s) DejaVu Sans.\n",
      "  fig.canvas.print_figure(bytes_io, **kw)\n"
     ]
    },
    {
     "data": {
      "image/png": "[encoded data removed]",
      "text/plain": [
       "<Figure size 800x500 with 1 Axes>"
      ]
     },
     "metadata": {},
     "output_type": "display_data"
    }
   ],
   "source": [
    "import matplotlib.pyplot as plt\n",
    "\n",
    "models = ['CatBoost', 'LightGBM', 'Neural Net', 'Actual']\n",
    "values = [pred_cat, pred_lgb, pred_mlp, y_test.iloc[sample_index]]\n",
    "\n",
    "plt.figure(figsize=(8,5))\n",
    "plt.bar(models, values, color=['#44bec7', '#f7b928', '#ff5c5c', '#2ecc71'])\n",
    "plt.title(\"📊 Predicted Yield vs Actual Yield\")\n",
    "plt.ylabel(\"Yield\")\n",
    "plt.ylim(0, max(values) + 2)\n",
    "plt.grid(axis='y')\n",
    "plt.show()\n"
   ]
  },
  {
   "cell_type": "code",
   "execution_count": 465,
   "id": "953cdb22",
   "metadata": {},
   "outputs": [
    {
     "data": {
      "image/png": "[encoded data removed]",
      "text/plain": [
       "<Figure size 800x650 with 3 Axes>"
      ]
     },
     "metadata": {},
     "output_type": "display_data"
    },
    {
     "data": {
      "text/plain": [
       "<Figure size 640x480 with 0 Axes>"
      ]
     },
     "metadata": {},
     "output_type": "display_data"
    }
   ],
   "source": [
    "import shap\n",
    "import matplotlib.pyplot as plt\n",
    "\n",
    "# Create the SHAP explainer\n",
    "explainer = shap.TreeExplainer(catboost_model)\n",
    "\n",
    "# Compute SHAP values for the test set\n",
    "shap_values = explainer.shap_values(X_test)\n",
    "\n",
    "# Choose the sample you want to explain\n",
    "sample_index = 0  # adjust as needed\n",
    "sample = X_test.iloc[[sample_index]]\n",
    "\n",
    "# For classification models (especially binary), use class index\n",
    "if isinstance(shap_values, list):\n",
    "    class_index = 1  # typically class 1 is the positive class\n",
    "    shap_values_sample = shap_values[class_index][sample_index]\n",
    "else:\n",
    "    shap_values_sample = shap_values[sample_index]\n",
    "\n",
    "# Plot a bar chart of SHAP values for that sample\n",
    "shap.plots._waterfall.waterfall_legacy(\n",
    "    explainer.expected_value[class_index] if isinstance(shap_values, list) else explainer.expected_value,\n",
    "    shap_values_sample,\n",
    "    feature_names=sample.columns,\n",
    "    features=sample.values[0]\n",
    ")\n",
    "\n",
    "# Show the plot4-\n",
    "plt.tight_layout()\n",
    "plt.show()\n"
   ]
  },
  {
   "cell_type": "code",
   "execution_count": 466,
   "id": "f46df747",
   "metadata": {},
   "outputs": [
    {
     "name": "stderr",
     "output_type": "stream",
     "text": [
      "C:\\Users\\sjai5\\AppData\\Local\\Temp\\ipykernel_2500\\3601250619.py:2: FutureWarning: The NumPy global RNG was seeded by calling `np.random.seed`. In a future version this function will no longer use the global RNG. Pass `rng` explicitly to opt-in to the new behaviour and silence this warning.\n",
      "  shap.summary_plot(shap_values, X_test, plot_type=\"bar\")\n"
     ]
    },
    {
     "data": {
      "image/png": "[encoded data removed]",
      "text/plain": [
       "<Figure size 800x750 with 1 Axes>"
      ]
     },
     "metadata": {},
     "output_type": "display_data"
    }
   ],
   "source": [
    "# Summary plot shows top features globally\n",
    "shap.summary_plot(shap_values, X_test, plot_type=\"bar\")\n"
   ]
  },
  {
   "cell_type": "code",
   "execution_count": 467,
   "id": "37566456",
   "metadata": {},
   "outputs": [
    {
     "data": {
      "image/png": "[encoded data removed]",
      "text/plain": [
       "<Figure size 800x750 with 1 Axes>"
      ]
     },
     "metadata": {},
     "output_type": "display_data"
    }
   ],
   "source": [
    "shap.decision_plot(explainer.expected_value, shap_values[sample_index], sample)"
   ]
  }
 ],
 "metadata": {
  "kernelspec": {
   "display_name": "venv",
   "language": "python",
   "name": "python3"
  },
  "language_info": {
   "codemirror_mode": {
    "name": "ipython",
    "version": 3
   },
   "file_extension": ".py",
   "mimetype": "text/x-python",
   "name": "python",
   "nbconvert_exporter": "python",
   "pygments_lexer": "ipython3",
   "version": "3.11.4"
  }
 },
 "nbformat": 4,
 "nbformat_minor": 5
}
